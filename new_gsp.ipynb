{
  "nbformat": 4,
  "nbformat_minor": 0,
  "metadata": {
    "colab": {
      "name": "new_gsp.ipynb",
      "provenance": [],
      "collapsed_sections": [
        "wpYeq_p7rmMs"
      ],
      "toc_visible": true,
      "authorship_tag": "ABX9TyN1ok/BgTjSXVY0GO+zpFrY",
      "include_colab_link": true
    },
    "kernelspec": {
      "display_name": "Python 3",
      "name": "python3"
    },
    "language_info": {
      "name": "python"
    }
  },
  "cells": [
    {
      "cell_type": "markdown",
      "metadata": {
        "id": "view-in-github",
        "colab_type": "text"
      },
      "source": [
        "<a href=\"https://colab.research.google.com/github/Kimiko00/Training-GSP/blob/main/new_gsp.ipynb\" target=\"_parent\"><img src=\"https://colab.research.google.com/assets/colab-badge.svg\" alt=\"Open In Colab\"/></a>"
      ]
    },
    {
      "cell_type": "code",
      "metadata": {
        "id": "mQ3cRKvGZHwV"
      },
      "source": [
        "import pandas as pd\n",
        "import numpy\n",
        "import re\n",
        "import pandas as pd\n",
        "from collections import defaultdict as de"
      ],
      "execution_count": null,
      "outputs": []
    },
    {
      "cell_type": "code",
      "metadata": {
        "id": "VyamN9C9hQFg"
      },
      "source": [
        "########################### READ ME #################################\n",
        "\n",
        "# ganti beberapa variable pada\n",
        "\n",
        "## MEMAKAI DATA SUPER STORE\n",
        "# df1 = pd.read_csv('.csv') ==> sesuaikan dengan file .csv yang ingin dibaca (file ada didalam alenia atasnya)\n",
        "\n",
        "## FUNGSI GSP\n",
        "# for i in dataset['Sub-Category'].values: ==> pada ['...'] sesuaikan pada colom didalam data.csv\n",
        "\n",
        "## MAIN\n",
        "# for i in dataset['Sub-Category'].values: ==> pada ['...'] sesuaikan pada colom didalam data.csv\n",
        "# di=gps_de(r_1_di,2) ==> pada (r_1_di, ...) sesuaikan angka dibelakang dengan panjang sequence yang ingin dicari\n",
        "# r_1_di[j[0]]+=1 # membaca 1 huruf didepan setiap data ==> hapus +=1 jika ingin nama product ditampilkan"
      ],
      "execution_count": null,
      "outputs": []
    },
    {
      "cell_type": "markdown",
      "metadata": {
        "id": "uidO7cmirgJe"
      },
      "source": [
        "# **MEMAKAI DATA SUPER STORE**"
      ]
    },
    {
      "cell_type": "code",
      "metadata": {
        "id": "Rc2ZVxibtTNF"
      },
      "source": [
        "# membaca file xls\n",
        "xls = pd.ExcelFile('Superstore_Data_One_Region_Per_Sheet.xlsx')"
      ],
      "execution_count": null,
      "outputs": []
    },
    {
      "cell_type": "code",
      "metadata": {
        "id": "Qmu4WHDNgJxq"
      },
      "source": [
        "# membaca file excel per sheetnya \n",
        "West_Superstore = pd.read_excel(xls, 'West_Superstore')\n",
        "Central_Superstore = pd.read_excel(xls, 'Central_Superstore')\n",
        "East_Superstore = pd.read_excel(xls, 'East_Superstore')\n",
        "South_Superstore = pd.read_excel(xls, 'South_Superstore')\n",
        "\n",
        "# menyimpan per sheet name sebagai file csv yang berbeda\n",
        "West_Superstore = West_Superstore.to_csv('West_Superstore.csv')\n",
        "Central_Superstore = Central_Superstore.to_csv('Central_Superstore.csv')\n",
        "East_Superstore = East_Superstore.to_csv('East_Superstore.csv')\n",
        "South_Superstore = South_Superstore.to_csv('South_Superstore.csv')"
      ],
      "execution_count": null,
      "outputs": []
    },
    {
      "cell_type": "code",
      "metadata": {
        "id": "oeMUlmLuth-j"
      },
      "source": [
        "df1 = pd.read_csv('West_Superstore.csv', delimiter=',')\n",
        "df1.replace(',','', regex=True, inplace=True)\n",
        "df1 = df1[['Customer ID', 'Product Name']] # menggunakan hanya kolom customer id dan sub-category\n",
        "\n",
        "# fungsi group by dan menggabungkan semua pesanan per customer id menjadi deret \n",
        "df1 = df1.groupby('Customer ID')[['Product Name']].aggregate(lambda x: \",\".join(list(x))).reset_index()\n",
        "\n",
        "#menyimpan file kedalam bentuk .csv baru\n",
        "df1.to_csv('data.csv')"
      ],
      "execution_count": null,
      "outputs": []
    },
    {
      "cell_type": "markdown",
      "metadata": {
        "id": "fTdBJUMtrt_y"
      },
      "source": [
        "# **FUNGSI GSP**"
      ]
    },
    {
      "cell_type": "code",
      "metadata": {
        "id": "uiHpyNix9wZk"
      },
      "source": [
        "# fungsi untuk menghapus sebuah item set didata\n",
        "def dell(d,na):\n",
        "    for i in na:\n",
        "        del d[i]\n",
        "    return d\n",
        "\n",
        "# funsgi untuk menambahkan item ke dalam sequence \n",
        "# jika V (value secuence) lebih besar dari value yang dicari(n)    \n",
        "def gps_de(d,n):\n",
        "    name=[]\n",
        "    for k,v in d.items(): # untuk setiam item didalam sequence dan valuenya\n",
        "        if v<n:\n",
        "            name.append(k) # dimasukkan ke dalam jenis sequence baru ke variable nama\n",
        "    return dell(d,name)\n",
        "\n",
        "# fungsi prunning\n",
        "def gps_cr(d):\n",
        "    name=[]\n",
        "    for k,v in d.items():\n",
        "        name.append(k)\n",
        "    name_new=[i+j[-1] for i in name for j in name if i[1:]==j[:-1]] #prunning\n",
        "    return name_new\n",
        "\n",
        "# fungi pencarian candidat\n",
        "def gps_crdi(name,dataset):\n",
        "    r=de(int)\n",
        "    for i in name:\n",
        "        b=''\n",
        "        for j in range(len(i)-1):\n",
        "            b+=i[j]+'.*'\n",
        "        b+=i[-1]\n",
        "        # penarikan data didalam dataset\n",
        "        for i in dataset['Product Name'].values:\n",
        "            i_new=i.replace(',','') # mengganti , didalam data: (input) A,B --> AB (output)\n",
        "            res=re.search(b,i_new) # ditampung\n",
        "            if not(res==None):\n",
        "                r[b.replace('.*','')]+=1\n",
        "    return r"
      ],
      "execution_count": null,
      "outputs": []
    },
    {
      "cell_type": "markdown",
      "metadata": {
        "id": "NkWe460trxGD"
      },
      "source": [
        "# **MAIN**"
      ]
    },
    {
      "cell_type": "code",
      "metadata": {
        "id": "cVsDTb2XZTOg"
      },
      "source": [
        "# data reading\n",
        "with open('data.csv')as f:\n",
        "    dataset=pd.read_csv(f)\n",
        "    r_1=[]\n",
        "    r_1_di=de(int)\n",
        "    for i in dataset['Product Name'].values:\n",
        "        for j in set(i.split(',')): # split item berdasarkan koma\n",
        "            r_1_di[j]+=1 # membaca 1 huruf didepan setiap data\n",
        "    \n",
        "    # Sequence pertama\n",
        "    di=gps_de(r_1_di,3) # 2 adalah besaran min yang dicari atau ditetapkan\n",
        "    print('L1:')\n",
        "    print(di)\n",
        "\n",
        "    # candidat kedua\n",
        "    name=[]\n",
        "    for k,v in di.items():\n",
        "        name.append(k)\n",
        "\n",
        "    name_new=[i+j for i in name for j in name]\n",
        "    r_di=gps_crdi(name_new,dataset) # candidat\n",
        "    di_3=gps_de(r_di,3) # pruning\n",
        "    nuu=1\n",
        "\n",
        "    # looping untuk mecari setiap sequence dan candidat \n",
        "    # yang ada selama panjang dari sequence pertama tidak 0\n",
        "    while(len(di_3)!=0):\n",
        "        print('L'+str(nuu+1)+':')\n",
        "        print(di_3)\n",
        "        # mencari confident setiap sequence\n",
        "        for k,v in di_3.items():\n",
        "          print(\"Support Count {}: {}%\".format(k, v/len(k)*100))\n",
        "        # pruning dan candidat selanjutnya\n",
        "        name_n=gps_cr(di_3) # candidat selanjutnya\n",
        "        r_di=gps_crdi(name_n,dataset) # pruning selanjutnya\n",
        "        di_3=gps_de(r_di,2)\n",
        "        nuu+=1 # increment untuk L+ (penamaan per run)"
      ],
      "execution_count": null,
      "outputs": []
    }
  ]
}