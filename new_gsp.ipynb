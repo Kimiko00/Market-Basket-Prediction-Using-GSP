{
  "nbformat": 4,
  "nbformat_minor": 0,
  "metadata": {
    "colab": {
      "name": "new_gsp.ipynb",
      "provenance": [],
      "collapsed_sections": [
        "wpYeq_p7rmMs"
      ],
      "toc_visible": true,
      "authorship_tag": "ABX9TyN1ok/BgTjSXVY0GO+zpFrY",
      "include_colab_link": true
    },
    "kernelspec": {
      "display_name": "Python 3",
      "name": "python3"
    },
    "language_info": {
      "name": "python"
    }
  },
  "cells": [
    {
      "cell_type": "markdown",
      "metadata": {
        "id": "view-in-github",
        "colab_type": "text"
      },
      "source": [
        "<a href=\"https://colab.research.google.com/github/Kimiko00/Training-GSP/blob/main/new_gsp.ipynb\" target=\"_parent\"><img src=\"https://colab.research.google.com/assets/colab-badge.svg\" alt=\"Open In Colab\"/></a>"
      ]
    },
    {
      "cell_type": "code",
      "metadata": {
        "id": "mQ3cRKvGZHwV"
      },
      "source": [
        "import pandas as pd\n",
        "import numpy\n",
        "import re\n",
        "import pandas as pd\n",
        "from collections import defaultdict as de"
      ],
      "execution_count": null,
      "outputs": []
    },
    {
      "cell_type": "code",
      "metadata": {
        "id": "VyamN9C9hQFg"
      },
      "source": [
        "########################### READ ME #################################\n",
        "\n",
        "# ganti beberapa variable pada\n",
        "\n",
        "## MEMAKAI DATA SUPER STORE\n",
        "# df1 = pd.read_csv('.csv') ==> sesuaikan dengan file .csv yang ingin dibaca (file ada didalam alenia atasnya)\n",
        "\n",
        "## FUNGSI GSP\n",
        "# for i in dataset['Sub-Category'].values: ==> pada ['...'] sesuaikan pada colom didalam data.csv\n",
        "\n",
        "## MAIN\n",
        "# for i in dataset['Sub-Category'].values: ==> pada ['...'] sesuaikan pada colom didalam data.csv\n",
        "# di=gps_de(r_1_di,2) ==> pada (r_1_di, ...) sesuaikan angka dibelakang dengan panjang sequence yang ingin dicari\n",
        "# r_1_di[j[0]]+=1 # membaca 1 huruf didepan setiap data ==> hapus +=1 jika ingin nama product ditampilkan"
      ],
      "execution_count": null,
      "outputs": []
    },
    {
      "cell_type": "markdown",
      "metadata": {
        "id": "uidO7cmirgJe"
      },
      "source": [
        "# **MEMAKAI DATA SUPER STORE**"
      ]
    },
    {
      "cell_type": "code",
      "metadata": {
        "id": "Rc2ZVxibtTNF"
      },
      "source": [
        "# membaca file xls\n",
        "xls = pd.ExcelFile('Superstore_Data_One_Region_Per_Sheet.xlsx')"
      ],
      "execution_count": null,
      "outputs": []
    },
    {
      "cell_type": "code",
      "metadata": {
        "id": "Qmu4WHDNgJxq"
      },
      "source": [
        "# membaca file excel per sheetnya \n",
        "West_Superstore = pd.read_excel(xls, 'West_Superstore')\n",
        "Central_Superstore = pd.read_excel(xls, 'Central_Superstore')\n",
        "East_Superstore = pd.read_excel(xls, 'East_Superstore')\n",
        "South_Superstore = pd.read_excel(xls, 'South_Superstore')\n",
        "\n",
        "# menyimpan per sheet name sebagai file csv yang berbeda\n",
        "West_Superstore = West_Superstore.to_csv('West_Superstore.csv')\n",
        "Central_Superstore = Central_Superstore.to_csv('Central_Superstore.csv')\n",
        "East_Superstore = East_Superstore.to_csv('East_Superstore.csv')\n",
        "South_Superstore = South_Superstore.to_csv('South_Superstore.csv')"
      ],
      "execution_count": null,
      "outputs": []
    },
    {
      "cell_type": "code",
      "metadata": {
        "id": "oeMUlmLuth-j"
      },
      "source": [
        "df1 = pd.read_csv('West_Superstore.csv', delimiter=',')\n",
        "df1.replace(',','', regex=True, inplace=True)\n",
        "df1 = df1[['Customer ID', 'Product Name']] # menggunakan hanya kolom customer id dan sub-category\n",
        "\n",
        "# fungsi group by dan menggabungkan semua pesanan per customer id menjadi deret \n",
        "df1 = df1.groupby('Customer ID')[['Product Name']].aggregate(lambda x: \",\".join(list(x))).reset_index()\n",
        "\n",
        "#menyimpan file kedalam bentuk .csv baru\n",
        "df1.to_csv('data.csv')"
      ],
      "execution_count": null,
      "outputs": []
    },
    {
      "cell_type": "markdown",
      "metadata": {
        "id": "fTdBJUMtrt_y"
      },
      "source": [
        "# **FUNGSI GSP**"
      ]
    },
    {
      "cell_type": "code",
      "metadata": {
        "id": "uiHpyNix9wZk"
      },
      "source": [
        "# fungsi untuk menghapus sebuah item set didata\n",
        "def dell(d,na):\n",
        "    for i in na:\n",
        "        del d[i]\n",
        "    return d\n",
        "\n",
        "# funsgi untuk menambahkan item ke dalam sequence \n",
        "# jika V (value secuence) lebih besar dari value yang dicari(n)    \n",
        "def gps_de(d,n):\n",
        "    name=[]\n",
        "    for k,v in d.items(): # untuk setiam item didalam sequence dan valuenya\n",
        "        if v<n:\n",
        "            name.append(k) # dimasukkan ke dalam jenis sequence baru ke variable nama\n",
        "    return dell(d,name)\n",
        "\n",
        "# fungsi prunning\n",
        "def gps_cr(d):\n",
        "    name=[]\n",
        "    for k,v in d.items():\n",
        "        name.append(k)\n",
        "    name_new=[i+j[-1] for i in name for j in name if i[1:]==j[:-1]] #prunning\n",
        "    return name_new\n",
        "\n",
        "# fungi pencarian candidat\n",
        "def gps_crdi(name,dataset):\n",
        "    r=de(int)\n",
        "    for i in name:\n",
        "        b=''\n",
        "        for j in range(len(i)-1):\n",
        "            b+=i[j]+'.*'\n",
        "        b+=i[-1]\n",
        "        # penarikan data didalam dataset\n",
        "        for i in dataset['Product Name'].values:\n",
        "            i_new=i.replace(',','') # mengganti , didalam data: (input) A,B --> AB (output)\n",
        "            res=re.search(b,i_new) # ditampung\n",
        "            if not(res==None):\n",
        "                r[b.replace('.*','')]+=1\n",
        "    return r"
      ],
      "execution_count": null,
      "outputs": []
    },
    {
      "cell_type": "markdown",
      "metadata": {
        "id": "NkWe460trxGD"
      },
      "source": [
        "# **MAIN**"
      ]
    },
    {
      "cell_type": "code",
      "metadata": {
        "colab": {
          "base_uri": "https://localhost:8080/"
        },
        "id": "cVsDTb2XZTOg",
        "outputId": "1a7f98e5-edf2-4575-8364-629955adf330"
      },
      "source": [
        "# data reading\n",
        "with open('data.csv')as f:\n",
        "    dataset=pd.read_csv(f)\n",
        "    r_1=[]\n",
        "    r_1_di=de(int)\n",
        "    for i in dataset['Product Name'].values:\n",
        "        for j in set(i.split(',')): # split item berdasarkan koma\n",
        "            r_1_di[j]+=1 # membaca 1 huruf didepan setiap data\n",
        "    \n",
        "    # Sequence pertama\n",
        "    di=gps_de(r_1_di,3) # 2 adalah besaran min yang dicari atau ditetapkan\n",
        "    print('L1:')\n",
        "    print(di)\n",
        "\n",
        "    # candidat kedua\n",
        "    name=[]\n",
        "    for k,v in di.items():\n",
        "        name.append(k)\n",
        "\n",
        "    name_new=[i+j for i in name for j in name]\n",
        "    r_di=gps_crdi(name_new,dataset) # candidat\n",
        "    di_3=gps_de(r_di,3) # pruning\n",
        "    nuu=1\n",
        "\n",
        "    # looping untuk mecari setiap sequence dan candidat \n",
        "    # yang ada selama panjang dari sequence pertama tidak 0\n",
        "    while(len(di_3)!=0):\n",
        "        print('L'+str(nuu+1)+':')\n",
        "        print(di_3)\n",
        "        # mencari confident setiap sequence\n",
        "        for k,v in di_3.items():\n",
        "          print(\"Support Count {}: {}%\".format(k, v/len(k)*100))\n",
        "        # pruning dan candidat selanjutnya\n",
        "        name_n=gps_cr(di_3) # candidat selanjutnya\n",
        "        r_di=gps_crdi(name_n,dataset) # pruning selanjutnya\n",
        "        di_3=gps_de(r_di,2)\n",
        "        nuu+=1 # increment untuk L+ (penamaan per run)"
      ],
      "execution_count": null,
      "outputs": [
        {
          "output_type": "stream",
          "text": [
            "L1:\n",
            "defaultdict(<class 'int'>, {'Fellowes Advanced Computer Series Surge Protectors': 3, 'Tenex Personal Project File with Scoop Front Design Black': 3, 'Sterilite Officeware Hinged File Box': 6, 'Avery Premier Heavy-Duty Binder with Round Locking Rings': 3, 'Xerox 1996': 4, 'Eldon Shelf Savers Cubes and Bins': 4, 'Hon 2090 “Pillow Soft” Series Mid Back Swivel/Tilt Chairs': 4, 'Wirebound Message Books Four 2 3/4\" x 5\" Forms per Page 600 Sets per Book': 3, 'Logitech G600 MMO Gaming Mouse': 4, 'SanDisk Cruzer 64 GB USB Flash Drive': 5, 'Hon 5100 Series Wood Tables': 3, 'Bevis Boat-Shaped Conference Table': 3, 'Akro Stacking Bins': 3, 'Xerox 1977': 3, 'Belkin Standard 104 key USB Keyboard': 3, 'GBC Velobind Prepunched Cover Sets Regency Series': 4, 'GBC Wire Binding Combs': 3, 'Zipper Ring Binder Pockets': 3, 'Staples in misc. colors': 7, 'Tennsco Regal Shelving Units': 4, 'Flat Face Poster Frame': 5, 'Crayola Colored Pencils': 3, 'Cardinal EasyOpen D-Ring Binders': 4, 'Adtran 1202752G1': 4, 'Tuff Stuff Recycled Round Ring Binders': 4, 'Ibico Hi-Tech Manual Binding System': 4, 'invisibleSHIELD by ZAGG Smudge-Free Screen Protector': 3, 'Ooma Telo VoIP Home Phone System': 3, 'i.Sound Portable Power - 8000 mAh': 3, 'Great White Multi-Use Recycled Paper (20Lb. and 84 Bright)': 5, 'Advantus Rolling Storage Box': 3, 'Xerox 1919': 5, 'Recycled Pressboard Report Cover with Reinforced Top Hinge': 5, 'Commercial WindTunnel Clean Air Upright Vacuum Replacement Belts Filtration Bags': 3, 'Premium Writing Pencils Soft #2 by Central Association for the Blind': 3, 'Bevis Steel Folding Chairs': 5, 'Xerox 225': 7, 'Lesro Round Back Collection Coffee Table End Table': 4, 'C-Line Magnetic Cubicle Keepers Clear Polypropylene': 3, 'Panasonic KX-TG6844B Expandable Digital Cordless Telephone': 4, 'Fellowes Twister Kit Gray/Clear 3/pkg': 3, 'Avery Non-Stick Binders': 8, 'Wilson Jones Custom Binder Spines & Labels': 3, 'NETGEAR AC1750 Dual Band Gigabit\\xa0Smart WiFi Router': 3, 'Belkin F9G930V10-GRY 9 Outlet Surge': 4, 'GBC VeloBind Cover Sets': 3, 'Geemarc AmpliPOWER60': 3, 'Fellowes Super Stor/Drawer Files': 6, 'Premier Electric Letter Opener': 3, 'OIC Binder Clips': 4, 'Ampad Phone Message Book Recycled 400 Message Capacity 5 ¾” x 11”': 3, 'Macally Suction Cup Mount': 3, 'Vinyl Sectional Post Binders': 7, 'Xerox 1891': 5, 'Xerox 1942': 3, 'Sony Micro Vault Click 8 GB USB 2.0 Flash Drive': 4, 'Staples': 11, 'Hon 61000 Series Interactive Training Tables': 4, 'SANFORD Major Accent Highlighters': 4, 'Tenex Chairmats For Use With Carpeted Floors': 4, 'Staple holder': 6, 'Standard Rollaway File with Lock': 5, 'Xerox 1933': 3, 'Alphabetical Labels for Top Tab Filing': 4, 'Samsung Galaxy Mega 6.3': 3, 'Peel & Stick Add-On Corner Pockets': 3, 'Strathmore #10 Envelopes Ultimate White': 3, 'Easy-staple paper': 9, 'Wirebound Message Book 4 per Page': 4, 'Green Bar Computer Printout Paper': 3, 'Sterilite Show Offs Storage Containers': 3, 'Mophie Juice Pack Helium for iPhone': 3, 'Atlantic Metals Mobile 4-Shelf Bookcases Custom Colors': 3, 'Executive Impressions 10\" Spectator Wall Clock': 3, 'Peel & Seel Recycled Catalog Envelopes Brown': 3, 'Micro Innovations USB RF Wireless Keyboard with Mouse': 4, 'Prang Dustless Chalk Sticks': 3, 'Satellite Sectional Post Binders': 4, 'Wilson Jones Impact Binders': 3, 'Avery Durable Slant Ring Binders With Label Holder': 3, 'Alliance Big Bands Rubber Bands 12/Pack': 3, 'Boston Home & Office Model 2000 Electric Pencil Sharpeners': 3, 'Luxo Professional Combination Clamp-On Lamps': 3, 'Hon Olson Stacker Stools': 4, 'Kingston Digital DataTraveler 16GB USB 2.0': 6, 'Xerox 1931': 5, 'Fellowes Mobile File Cart Black': 5, 'Newell Chalk Holder': 4, 'Harmony HEPA Quiet Air Purifiers': 3, 'GBC DocuBind P50 Personal Binding Machine': 4, 'Stockwell Push Pins': 4, 'Global Deluxe Stacking Chair Gray': 6, 'Xerox 226': 5, 'Avery Self-Adhesive Photo Pockets for Polaroid Photos': 4, 'Hon Non-Folding Utility Tables': 3, 'First Data FD10 PIN Pad': 3, '3M Hangers With Command Adhesive': 3, 'Lesro Sheffield Collection Coffee Table End Table Center Table Corner Table': 5, 'Avery Trapezoid Extra Heavy Duty 4\" Binders': 3, 'Eldon Image Series Desk Accessories Burgundy': 5, 'Mini 13-1/2 Capacity Data Binder Rack Pearl': 3, 'Acco Pressboard Covers with Storage Hooks 14 7/8\" x 11\" Light Blue': 3, 'Fellowes Mighty 8 Compact Surge Protector': 5, '#10- 4 1/8\" x 9 1/2\" Security-Tint Envelopes': 5, 'Tenex \"The Solids\" Textured Chair Mats': 3, 'Square Ring Data Binders Rigid 75 Pt. Covers 11\" x 14-7/8\"': 4, 'Avery Durable Slant Ring Binders No Labels': 3, 'Advantus Rolling Drawer Organizers': 3, 'DAX Value U-Channel Document Frames Easel Back': 3, 'Bevis 36 x 72 Conference Tables': 4, 'Martin-Yale Premier Letter Opener': 3, 'Panasonic KX TS3282W Corded phone': 5, 'Eldon Stackable Tray Side-Load Legal Smoke': 3, 'Acco Suede Grain Vinyl Round Ring Binder': 3, 'Tenex B1-RE Series Chair Mats for Low Pile Carpets': 3, 'C-Line Cubicle Keepers Polyproplyene Holder With Velcro Backings': 4, 'Prestige Round Ring Binders': 3, 'Logitech B530 USB\\xa0Headset\\xa0-\\xa0headset\\xa0- Full size Binaural': 4, 'Chromcraft Round Conference Tables': 4, 'Ampad Gold Fibre Wirebound Steno Books 6\" x 9\" Gregg Ruled': 3, 'Newell 310': 3, 'Global Leather Executive Chair': 3, 'Global Comet Stacking Armless Chair': 4, 'Fellowes Officeware Wire Shelving': 5, 'Sortfiler Multipurpose Personal File Organizer Black': 4, 'Rediform S.O.S. 1-Up Phone Message Bk 4-1/4x3-1/16 Bk 1 Form/Pg 40 Messages/Bk 3/Pk': 3, 'Avery 512': 3, 'Perma STOR-ALL Hanging File Box 13 1/8\"W x 12 1/4\"D x 10 1/2\"H': 4, 'Premium Transparent Presentation Covers by GBC': 3, 'Sauder Forest Hills Library Woodland Oak Finish': 3, 'Xerox 1925': 3, 'Novimex Fabric Task Chair': 6, 'Tripp Lite TLP810NET Broadband Surge for Modem/Fax': 4, '4009 Highlighters by Sanford': 4, 'GBC Durable Plastic Covers': 4, 'Avery Heavy-Duty EZD  Binder With Locking Rings': 3, 'Tennsco 6- and 18-Compartment Lockers': 4, 'Longer-Life Soft White Bulbs': 4, 'Storex Dura Pro Binders': 3, 'JM Magazine Binder': 3, 'Dixon Ticonderoga Core-Lock Colored Pencils': 4, \"Acco Six-Outlet Power Strip 4' Cord Length\": 4, 'Eldon Portable Mobile Manager': 5, 'Newell 344': 3, 'Nortel Business Series Terminal T7208 Digital phone': 3, 'Eldon Expressions Wood and Plastic Desk Accessories Oak': 3, 'Cisco Unified IP Phone 7945G VoIP phone': 3, 'Tennsco Commercial Shelving': 4, 'Aluminum Document Frame': 3, 'BOSTON Ranger #55 Pencil Sharpener Black': 3, 'SAFCO PlanMaster Boards 60w x 37-1/2d White Melamine': 3, 'Belkin F5C206VTEL 6 Outlet Surge': 3, 'DXL Angle-View Binders with Locking Rings by Samsill': 3, 'Chromcraft Rectangular Conference Tables': 4, 'Eldon Expressions Wood and Plastic Desk Accessories Cherry Wood': 3, 'Mitel 5320 IP Phone VoIP phone': 4, 'GBC Imprintable Covers': 3, 'Eldon Regeneration Recycled Desk Accessories Smoke': 3, 'Fiskars Softgrip Scissors': 3, 'Self-Adhesive Address Labels for Typewriters by Universal': 3, 'Global Leather Task Chair Black': 5, 'netTALK DUO VoIP Telephone Service': 5, 'Newell 317': 4, 'GBC Prestige Therm-A-Bind Covers': 3, 'Prang Drawing Pencil Set': 6, 'Peel & Seel Envelopes': 3, 'REDIFORM Incoming/Outgoing Call Register 11\" X 8 1/2\" 100 Messages': 4, 'Newell 334': 5, 'Acco Data Flex Cable Posts For Top & Bottom Load Binders 6\" Capacity': 5, 'Avery 516': 3, 'Logitech\\xa0Z-906 Speaker sys - home theater - 5.1-CH': 3, 'Wilson Jones Ledger-Size Piano-Hinge Binder 2\" Blue': 3, 'Logitech Desktop MK120 Mouse and keyboard Combo': 3, 'Fellowes Bankers Box Staxonsteel Drawer File/Stacking System': 3, 'Hon 4070 Series Pagoda Armless Upholstered Stacking Chairs': 3, 'Avery Hole Reinforcements': 5, 'Eldon Expressions Wood Desk Accessories Oak': 4, 'Letter Size Cart': 3, 'Hon GuestStacker Chair': 4, 'Tenex 46\" x 60\" Computer Anti-Static Chairmat Rectangular Shaped': 3, 'Aluminum Screw Posts': 4, 'Carina Double Wide Media Storage Towers in Natural & Black': 6, 'Xerox 203': 3, 'DAX Contemporary Wood Frame with Silver Metal Mat Desktop 11 x 14 Size': 3, 'Office Star - Contemporary Swivel Chair with Padded Adjustable Arms and Flex Back': 3, 'APC 7 Outlet Network SurgeArrest Surge Protector': 4, 'GuestStacker Chair with Chrome Finish Legs': 6, 'Aastra 57i VoIP phone': 3, \"3M Replacement Filter for Office Air Cleaner for 20' x 33' Room\": 3, 'GBC Personal VeloBind Strips': 3, 'Toshiba IPT2010-SD IP\\xa0Telephone': 4, 'Kensington 6 Outlet Guardian Standard Surge Protector': 3, 'GBC Prepunched Paper 19-Hole for Binding Systems 24-lb': 3, 'Rogers Profile Extra Capacity Storage Tub': 4, 'Xerox 1898': 5, 'Newell 345': 3, 'GBC Premium Transparent Covers with Diagonal Lined Pattern': 5, 'Newell 351': 3, 'Kensington 4 Outlet MasterPiece Compact Power Control Center': 3, 'Newell 35': 3, 'Eldon Wave Desk Accessories': 5, 'Dana Halogen Swing-Arm Architect Lamp': 6, 'Bush Andora Bookcase Maple/Graphite Gray Finish': 4, 'Global Leather and Oak Executive Chair Black': 4, 'GE 30524EE4': 3, 'Executive Impressions 14\" Contract Wall Clock': 4, 'DMI Arturo Collection Mission-style Design Wood Chair': 5, 'Logitech Mobile Speakerphone P710e -\\xa0speaker phone': 3, 'Fellowes Bases and Tops For Staxonsteel/High-Stak Systems': 5, 'Rogers Deluxe File Chest': 3, 'Canon PC1060 Personal Laser Copier': 3, 'Cardinal Holdit Business Card Pockets': 6, 'Global Geo Office Task Chair Gray': 3, 'ACCOHIDE 3-Ring Binder Blue 1\"': 5, 'Astroparche Fine Business Paper': 3, 'Imation\\xa0Clip USB\\xa0flash drive\\xa0- 8 GB': 4, 'Xerox 1905': 3, 'Xerox 1930': 3, 'IBM Multi-Purpose Copy Paper 8 1/2 x 11\" Case': 3, 'Imation\\xa016GB Mini TravelDrive USB 2.0\\xa0Flash Drive': 4, 'Binder Clips by OIC': 3, 'Hon Every-Day Series Multi-Task Chairs': 3, 'Adams Telephone Message Book W/Dividers/Space For Phone Numbers 5 1/4\"X8 1/2\" 300/Messages': 5, 'SanDisk Ultra 32 GB MicroSDHC Class 10 Memory Card': 4, 'Acco 6 Outlet Guardian Premium Surge Suppressor': 3, 'GBC Standard Therm-A-Bind Covers': 6, 'Westinghouse Clip-On Gooseneck Lamps': 3, 'Wilson Jones Hanging View Binder White 1\"': 4, 'Okidata C331dn Printer': 4, 'SAFCO Arco Folding Chair': 7, 'Sensible Storage WireTech Storage Systems': 3, 'Logitech\\xa0Gaming G510s - Keyboard': 3, 'Kensington K72356US Mouse-in-a-Box USB Desktop Mouse': 4, 'Fellowes Stor/Drawer Steel Plus Storage Drawers': 3, 'Samsung HM1900 Bluetooth Headset': 3, 'Dax Clear Box Frame': 3, 'Kensington Expert Mouse Optical USB Trackball for PC or Mac': 3, 'Bretford “Just In Time” Height-Adjustable Multi-Task Work Tables': 3, 'Stur-D-Stor Shelving Vertical 5-Shelf: 72\"H x 36\"W x 18 1/2\"D': 3, 'Eldon Simplefile Box Office': 4, 'Staple remover': 4, 'Bevis Oval Conference Table Walnut': 3, 'GE 48\" Fluorescent Tube Cool White Energy Saver 34 Watts 30/Box': 4, 'WD My Passport Ultra 500GB Portable External Hard Drive': 3, 'Elite 5\" Scissors': 5, 'SAFCO Boltless Steel Shelving': 6, 'Wirebound Four 2-3/4 x 5 Forms per Page 400 Sets per Book': 4, 'Pressboard Hanging Data Binders for Unburst Sheets': 4, 'Performers Binder/Pad Holder Black': 3, 'Griffin GC17055 Auxiliary Audio Cable': 4, 'Avery 485': 3, 'Logitech\\xa0Illuminated - Keyboard': 5, 'Xerox 192': 3, 'Dual Level Single-Width Filing Carts': 3, 'Bretford Rectangular Conference Table Tops': 7, 'Newell 333': 3, 'Xerox 1962': 3, 'Fellowes 8 Outlet Superior Workstation Surge Protector w/o Phone/Fax/Modem Protection': 3, 'Global Low Back Tilter Chair': 3, 'Xerox 1888': 3, 'Logitech 910-002974 M325 Wireless Mouse for Web Scrolling': 4, 'Hewlett Packard 310 Color Digital Copier': 4, 'iHome FM Clock Radio with Lightning Dock': 3, 'Wirebound Service Call Books 5 1/2\" x 4\"': 4, 'Avery 488': 4, \"Global Deluxe High-Back Manager's Chair\": 3, 'Xerox 1900': 4, 'Xerox 4200 Series MultiUse Premium Copy Paper (20Lb. and 84 Bright)': 3, 'GBC Recycled Grain Textured Covers': 4, \"Global Fabric Manager's Chair Dark Gray\": 3, 'Xerox 1883': 4, 'Hewlett Packard LaserJet 3310 Copier': 3, 'Ibico Plastic Spiral Binding Combs': 3, 'Xerox 1909': 3, 'Adams \"While You Were Out\" Message Pads': 3, 'Tennsco Stur-D-Stor Boltless Shelving 5 Shelves 24\" Deep Sand': 4, 'Square Credit Card Reader': 3, 'Stackable Trays': 3, 'Global Deluxe Steno Chair': 5, 'Luxo Economy Swing Arm Lamp': 4, 'Xerox 1894': 4, 'SanDisk Ultra 16 GB MicroSDHC Class 10 Memory Card': 3, 'Global Troy Executive Leather Low-Back Tilter': 7, 'Self-Adhesive Removable Labels': 4, 'Redi-Strip #10 Envelopes 4 1/8 x 9 1/2': 4, 'Xerox 218': 3, 'Wilson Jones Leather-Like Binders with DublLock Round Rings': 6, 'Avery 4027 File Folder Labels for Dot Matrix Printers 5000 Labels per Box White': 3, 'Avery Legal 4-Ring Binder': 3, 'Staple-based wall hangings': 5, 'Home/Office Personal File Carts': 3, 'Newell 346': 4, 'Global Airflow Leather Mesh Back Chair Black': 3, 'Round Ring Binders': 4, 'Manila Recycled Extra-Heavyweight Clasp Envelopes 6\" x 9\"': 3, 'Avery Trapezoid Ring Binder 3\" Capacity Black 1040 sheets': 4, 'Prang Colored Pencils': 3, 'DIXON Oriole Pencils': 3, 'Microsoft Natural Ergonomic Keyboard 4000': 3, 'Acco Translucent Poly Ring Binders': 4, 'Bush Heritage Pine Collection 5-Shelf Bookcase Albany Pine Finish *Special Order': 5, 'Global Task Chair Black': 3, 'Poly String Tie Envelopes': 3, 'Jabra BIZ 2300 Duo QD Duo Corded\\xa0Headset': 3, 'Fellowes Basic Home/Office Series Surge Protectors': 3, 'KI Conference Tables': 5, 'Xerox 228': 3, 'Personal Creations Ink Jet Cards and Labels': 3, 'Bretford CR4500 Series Slim Rectangular Table': 3, 'Fellowes Superior 10 Outlet Split Surge Protector': 3, 'Cardinal Slant-D Ring Binder Heavy Gauge Vinyl': 7, 'Motorola L703CM': 4, 'Master Big Foot Doorstop Beige': 3, 'Tensor Computer Mounted Lamp': 4, 'Xerox 1911': 3, 'Acco PRESSTEX Data Binder with Storage Hooks Dark Blue 14 7/8\" X 11\"': 3, 'Staple envelope': 10, 'Riverleaf Stik-Withit Designer Note Cubes': 3, 'Computer Printout Paper with Letter-Trim Perforations': 3, 'Imation\\xa08GB Mini TravelDrive USB 2.0\\xa0Flash Drive': 3, 'Accohide Poly Flexible Ring Binders': 3, 'Global Leather & Oak Executive Chair Burgundy': 3, 'Xerox 1881': 3, 'Crayola Anti Dust Chalk 12/Pack': 3, 'Novimex Turbo Task Chair': 3, 'HP Standard 104 key PS/2 Keyboard': 3, 'Wilson Electronics DB Pro Signal Booster': 5, 'Ibico Plastic and Wire Spiral Binding Combs': 5, 'Fellowes Binding Cases': 3, 'Fellowes Command Center 5-outlet power strip': 3, 'Avery File Folder Labels': 4, 'Acco Pressboard Covers with Storage Hooks 14 7/8\" x 11\" Dark Blue': 4, 'Harbour Creations 67200 Series Stacking Chairs': 3, 'Avery 49': 3, 'Belkin 6 Outlet Metallic Surge Strip': 4, 'Wilson Jones Clip & Carry Folder Binder Tool for Ring Binders Clear': 5, 'Razer Kraken 7.1 Surround Sound Over Ear USB Gaming Headset': 3, 'Razer Tiamat Over Ear 7.1 Surround Sound PC Gaming Headset': 3, 'Newell 311': 3, 'Multicolor Computer Printout Paper': 4, 'Xerox 191': 4, 'Kingston Digital DataTraveler 32GB USB 2.0': 3, 'Jabra SPEAK 410': 3, 'Memorex Micro Travel Drive 16 GB': 3, 'Avery 475': 3, 'Newell 32': 3, 'DAX Copper Panel Document Frame 5 x 7 Size': 3, \"O'Sullivan Living Dimensions 2-Shelf Bookcases\": 6, 'Deflect-O Glasstique Clear Desk Accessories': 3, 'Square Credit Card Reader 4 1/2\" x 4 1/2\" x 1\" White': 3, 'KI Adjustable-Height Table': 4, 'Global Deluxe High-Back Office Chair in Storm': 3, 'Avery Framed View Binder EZD Ring (Locking) Navy 1 1/2\"': 3, 'Xerox 216': 3, 'BOSTON Model 1800 Electric Pencil Sharpeners Putty/Woodgrain': 4, 'Belkin 19\" Vented Equipment Shelf Black': 4, 'Howard Miller 13\" Diameter Pewter Finish Round Wall Clock': 3, 'Xerox 1960': 3, 'Logitech Wireless Headset h800': 3, 'Ibico Laser Imprintable Binding System Covers': 4, 'Safco Contoured Stacking Chairs': 4, 'BIC Brite Liner Highlighters': 3, 'Vinyl Coated Wire Paper Clips in Organizer Box 800/Box': 3, 'Newell 343': 4, 'Xerox 1880': 3, 'WD My Passport Ultra 2TB Portable External Hard Drive': 3, 'Global Deluxe Office Fabric Chairs': 3, 'Belkin 5 Outlet SurgeMaster Power Centers': 3, 'Acme Tagit Stainless Steel Antibacterial Scissors': 3, 'Xerox 1986': 3, 'Xerox 220': 4, 'Imation\\xa0Secure\\xa0Drive\\xa0+ Hardware Encrypted USB\\xa0flash drive\\xa0- 16 GB': 3, 'Plantronics Savi W720 Multi-Device Wireless Headset System': 3, 'Xerox 1974': 3, 'Logitech\\xa0P710e Mobile Speakerphone': 5, 'GBC Twin Loop Wire Binding Elements': 4, 'Newell 347': 3, 'Office Star - Professional Matrix Back Chair with 2-to-1 Synchro Tilt and Mesh Fabric Seat': 4, 'Ibico Ibimaster 300 Manual Binding System': 3, 'SanDisk Ultra 64 GB MicroSDHC Class 10 Memory Card': 3, 'OIC Bulk Pack Metal Binder Clips': 3, 'Global High-Back Leather Tilter Burgundy': 3, 'Personal Filing Tote with Lid Black/Gray': 3, 'Angle-D Binders with Locking Rings Label Holders': 3, 'Bestar Classic Bookcase': 5, 'Global Super Steno Chair': 3, 'GBC Standard Recycled Report Covers Clear Plastic Sheets': 4, \"O'Sullivan 4-Shelf Bookcase in Odessa Pine\": 4, 'Acrylic Self-Standing Desk Frames': 3, 'Howard Miller 13-3/4\" Diameter Brushed Chrome Round Wall Clock': 3, 'Howard Miller 11-1/2\" Diameter Grantwood Wall Clock': 3, 'Xerox 1997': 3, 'OIC Binder Clips Mini 1/4\" Capacity Black': 3, 'Howard Miller 14-1/2\" Diameter Chrome Round Wall Clock': 3, 'Fellowes Black Plastic Comb Bindings': 4, 'Fellowes PB500 Electric Punch Plastic Comb Binding Machine with Manual Bind': 3, 'Novimex High-Tech Fabric Mesh Task Chair': 3, 'Acco Flexible ACCOHIDE Square Ring Data Binder Dark Blue 11 1/2\" X 14\" 7/8\"': 3, 'Plantronics Audio 478 Stereo USB Headset': 4, 'Acme Box Cutter Scissors': 3, 'Wirebound Message Books Two 4 1/4\" x 5\" Forms per Page': 3, 'Logitech K350 2.4Ghz Wireless Keyboard': 4, 'Logitech Wireless Marathon Mouse M705': 3, '12-1/2 Diameter Round Wall Clock': 3, 'Enermax Briskie RF Wireless Keyboard and Mouse Combo': 3, 'Avery Reinforcements for Hole-Punch Pages': 4, 'Sony 64GB Class 10 Micro SDHC R40 Memory Card': 4, \"O'Sullivan Living Dimensions 3-Shelf Bookcases\": 3, 'OtterBox Defender Series Case - Samsung Galaxy S4': 4, 'Adjustable Depth Letter/Legal Cart': 3, \"Lock-Up Easel 'Spel-Binder'\": 3, 'Newell 332': 3, 'AT&T 1080 Corded phone': 3, 'Leather Task Chair Black': 3, 'GBC VeloBinder Manual Binding System': 5, 'Motorola HK250 Universal Bluetooth Headset': 4, 'SpineVue Locking Slant-D Ring Binders by Cardinal': 4, 'Ultra Door Pull Handle': 3, 'Wilson Jones Easy Flow II Sheet Lifters': 5, 'Wirebound Message Books Four 2 3/4 x 5 White Forms per Page': 3, 'VTech DS6151': 3, 'Howard Miller 11-1/2\" Diameter Brentwood Wall Clock': 3, 'Safco Wire Cube Shelving System For Use as 4 or 5 14\" Cubes Black': 3, 'File Shuttle II and Handi-File Black': 4, 'Model L Table or Wall-Mount Pencil Sharpener': 3, 'Jawbone MINI JAMBOX Wireless Bluetooth Speaker': 3, 'Memorex Mini Travel Drive 64 GB USB 2.0 Flash Drive': 5, 'Space Solutions Commercial Steel Shelving': 3, 'Advantus Plastic Paper Clips': 3, 'Xerox 1887': 3, 'Boston Heavy-Duty Trimline Electric Pencil Sharpeners': 3, 'Avery Durable Plastic 1\" Binders': 3, 'Acme Value Line Scissors': 5, 'Super Bands 12/Pack': 3, 'Binding Machine Supplies': 4, 'Xerox 1895': 3, \"Global Wood Trimmed Manager's Task Chair Khaki\": 4, 'Trav-L-File Heavy-Duty Shuttle II Black': 4, 'Clear Mylar Reinforcing Strips': 4, 'Mobile Personal File Cube': 4, 'Logitech G35 7.1-Channel Surround Sound Headset': 3, 'GBC Recycled VeloBinder Covers': 3, 'Hon 94000 Series Round Tables': 3, 'Xerox Color Copier Paper 11\" x 17\" Ream': 3, 'Xerox 1947': 3})\n"
          ],
          "name": "stdout"
        }
      ]
    }
  ]
}